{
 "cells": [
  {
   "cell_type": "code",
   "execution_count": 1,
   "metadata": {},
   "outputs": [],
   "source": [
    "import pymongo"
   ]
  },
  {
   "cell_type": "code",
   "execution_count": 2,
   "metadata": {},
   "outputs": [],
   "source": [
    "myclient = pymongo.MongoClient(\"mongodb://localhost:27017/\")\n",
    "\n",
    "#Create a database called \"mydatabase\"\n",
    "mydb = myclient[\"mydatabase\"]"
   ]
  },
  {
   "cell_type": "code",
   "execution_count": 3,
   "metadata": {},
   "outputs": [
    {
     "name": "stdout",
     "output_type": "stream",
     "text": [
      "['admin', 'config', 'local']\n"
     ]
    }
   ],
   "source": [
    "#Check if Database Exists\n",
    "\"\"\"\n",
    "Remember: In MongoDB, a database is not created until it gets content, \n",
    "so if this is your first time creating a database, you should complete \n",
    "the next two chapters (create collection and create document) before you \n",
    "check if the database exists!\n",
    "\"\"\"\n",
    "print(myclient.list_database_names())"
   ]
  },
  {
   "cell_type": "code",
   "execution_count": 4,
   "metadata": {},
   "outputs": [],
   "source": [
    "#Check if \"mydatabase\" exists:\n",
    "\n",
    "dblist = myclient.list_database_names()\n",
    "if \"mydatabase\" in dblist:\n",
    "  print(\"The database exists.\")"
   ]
  },
  {
   "cell_type": "code",
   "execution_count": 5,
   "metadata": {},
   "outputs": [],
   "source": [
    "#Create a collection called \"customers\" (A Table)\n",
    "#Important: In MongoDB, a collection is not created until it gets content!\n",
    "\n",
    "mycol = mydb[\"customers\"]"
   ]
  },
  {
   "cell_type": "code",
   "execution_count": 6,
   "metadata": {},
   "outputs": [
    {
     "name": "stdout",
     "output_type": "stream",
     "text": [
      "[]\n"
     ]
    }
   ],
   "source": [
    "#Check if Collection Exists\n",
    "\"\"\"\n",
    "Remember: In MongoDB, a collection is not created until it gets content, \n",
    "so if this is your first time creating a collection, you should complete \n",
    "the next chapter (create document) before you check if the collection \n",
    "exists!\n",
    "\"\"\"\n",
    "print(mydb.list_collection_names())\n"
   ]
  },
  {
   "cell_type": "code",
   "execution_count": 7,
   "metadata": {},
   "outputs": [],
   "source": [
    "#Check if the \"customers\" collection exists:\n",
    "\n",
    "collist = mydb.list_collection_names()\n",
    "if \"customers\" in collist:\n",
    "  print(\"The collection exists.\")"
   ]
  },
  {
   "cell_type": "code",
   "execution_count": 8,
   "metadata": {},
   "outputs": [],
   "source": [
    "#Insert a record in the \"customers\" collection:\n",
    "\n",
    "mydict = { \"name\": \"John\", \"address\": \"Highway 37\" }\n",
    "x = mycol.insert_one(mydict)"
   ]
  },
  {
   "cell_type": "code",
   "execution_count": 9,
   "metadata": {},
   "outputs": [
    {
     "name": "stdout",
     "output_type": "stream",
     "text": [
      "5da49db433ab8b08c0229b28\n"
     ]
    },
    {
     "data": {
      "text/plain": [
       "'\\nif you do not specify an _id field, then MongoDB will add one for you and \\nassign a unique id for each document.\\n\\nIn the example above no _id field was specified, so MongoDB assigned \\na unique _id for the record (document).\\n'"
      ]
     },
     "execution_count": 9,
     "metadata": {},
     "output_type": "execute_result"
    }
   ],
   "source": [
    "#Return the _id Field\n",
    "#Insert another record in the \"customers\" collection, and return the value of \n",
    "#the _id field:\n",
    "\n",
    "mydict = { \"name\": \"Peter\", \"address\": \"Lowstreet 27\" }\n",
    "x = mycol.insert_one(mydict)\n",
    "print(x.inserted_id) \n",
    "\n",
    "\"\"\"\n",
    "if you do not specify an _id field, then MongoDB will add one for you and \n",
    "assign a unique id for each document.\n",
    "\n",
    "In the example above no _id field was specified, so MongoDB assigned \n",
    "a unique _id for the record (document).\n",
    "\"\"\"\n"
   ]
  },
  {
   "cell_type": "code",
   "execution_count": 10,
   "metadata": {},
   "outputs": [
    {
     "name": "stdout",
     "output_type": "stream",
     "text": [
      "[ObjectId('5da49db433ab8b08c0229b29'), ObjectId('5da49db433ab8b08c0229b2a'), ObjectId('5da49db433ab8b08c0229b2b'), ObjectId('5da49db433ab8b08c0229b2c'), ObjectId('5da49db433ab8b08c0229b2d'), ObjectId('5da49db433ab8b08c0229b2e'), ObjectId('5da49db433ab8b08c0229b2f'), ObjectId('5da49db433ab8b08c0229b30'), ObjectId('5da49db433ab8b08c0229b31'), ObjectId('5da49db433ab8b08c0229b32'), ObjectId('5da49db433ab8b08c0229b33'), ObjectId('5da49db433ab8b08c0229b34')]\n"
     ]
    }
   ],
   "source": [
    "# Insert Multiple Documents\n",
    "\"\"\"\n",
    "To insert multiple documents into a collection in MongoDB, we use the \n",
    "insert_many() method.\n",
    "\n",
    "The first parameter of the insert_many() method is a list containing \n",
    "dictionaries with the data you want to insert:\n",
    "\"\"\"\n",
    "mylist = [\n",
    "  { \"name\": \"Amy\", \"address\": \"Apple st 652\"},\n",
    "  { \"name\": \"Hannah\", \"address\": \"Mountain 21\"},\n",
    "  { \"name\": \"Michael\", \"address\": \"Valley 345\"},\n",
    "  { \"name\": \"Sandy\", \"address\": \"Ocean blvd 2\"},\n",
    "  { \"name\": \"Betty\", \"address\": \"Green Grass 1\"},\n",
    "  { \"name\": \"Richard\", \"address\": \"Sky st 331\"},\n",
    "  { \"name\": \"Susan\", \"address\": \"One way 98\"},\n",
    "  { \"name\": \"Vicky\", \"address\": \"Yellow Garden 2\"},\n",
    "  { \"name\": \"Ben\", \"address\": \"Park Lane 38\"},\n",
    "  { \"name\": \"William\", \"address\": \"Central st 954\"},\n",
    "  { \"name\": \"Chuck\", \"address\": \"Main Road 989\"},\n",
    "  { \"name\": \"Viola\", \"address\": \"Sideway 1633\"}\n",
    "]\n",
    "\n",
    "x = mycol.insert_many(mylist)\n",
    "\n",
    "#print list of the _id values of the inserted documents:\n",
    "print(x.inserted_ids) "
   ]
  },
  {
   "cell_type": "code",
   "execution_count": 11,
   "metadata": {},
   "outputs": [
    {
     "name": "stdout",
     "output_type": "stream",
     "text": [
      "[1, 2, 3, 4, 5, 6, 7, 8, 9, 10, 11, 12, 13, 14]\n",
      "\n"
     ]
    }
   ],
   "source": [
    "#Insert Multiple Documents, with Specified IDs\n",
    "\n",
    "mylist = [\n",
    "  { \"_id\": 1, \"name\": \"John\", \"address\": \"Highway 37\"},\n",
    "  { \"_id\": 2, \"name\": \"Peter\", \"address\": \"Lowstreet 27\"},\n",
    "  { \"_id\": 3, \"name\": \"Amy\", \"address\": \"Apple st 652\"},\n",
    "  { \"_id\": 4, \"name\": \"Hannah\", \"address\": \"Mountain 21\"},\n",
    "  { \"_id\": 5, \"name\": \"Michael\", \"address\": \"Valley 345\"},\n",
    "  { \"_id\": 6, \"name\": \"Sandy\", \"address\": \"Ocean blvd 2\"},\n",
    "  { \"_id\": 7, \"name\": \"Betty\", \"address\": \"Green Grass 1\"},\n",
    "  { \"_id\": 8, \"name\": \"Richard\", \"address\": \"Sky st 331\"},\n",
    "  { \"_id\": 9, \"name\": \"Susan\", \"address\": \"One way 98\"},\n",
    "  { \"_id\": 10, \"name\": \"Vicky\", \"address\": \"Yellow Garden 2\"},\n",
    "  { \"_id\": 11, \"name\": \"Ben\", \"address\": \"Park Lane 38\"},\n",
    "  { \"_id\": 12, \"name\": \"William\", \"address\": \"Central st 954\"},\n",
    "  { \"_id\": 13, \"name\": \"Chuck\", \"address\": \"Main Road 989\"},\n",
    "  { \"_id\": 14, \"name\": \"Viola\", \"address\": \"Sideway 1633\"}\n",
    "]\n",
    "\n",
    "x = mycol.insert_many(mylist)\n",
    "\n",
    "#print list of the _id values of the inserted documents:\n",
    "print(x.inserted_ids) \n",
    "print('')"
   ]
  },
  {
   "cell_type": "code",
   "execution_count": 12,
   "metadata": {},
   "outputs": [
    {
     "name": "stdout",
     "output_type": "stream",
     "text": [
      "{'_id': ObjectId('5da49db433ab8b08c0229b27'), 'name': 'John', 'address': 'Highway 37'}\n"
     ]
    }
   ],
   "source": [
    "#Find One\n",
    "\"\"\"\n",
    "To select data from a collection in MongoDB, we can use the find_one() \n",
    "method.\n",
    "The find_one() method returns the first occurrence in the selection.\n",
    "\"\"\"\n",
    "\n",
    "x = mycol.find_one()\n",
    "print(x) "
   ]
  },
  {
   "cell_type": "code",
   "execution_count": 13,
   "metadata": {},
   "outputs": [
    {
     "name": "stdout",
     "output_type": "stream",
     "text": [
      "{'_id': ObjectId('5da49db433ab8b08c0229b27'), 'name': 'John', 'address': 'Highway 37'}\n",
      "{'_id': ObjectId('5da49db433ab8b08c0229b28'), 'name': 'Peter', 'address': 'Lowstreet 27'}\n",
      "{'_id': ObjectId('5da49db433ab8b08c0229b29'), 'name': 'Amy', 'address': 'Apple st 652'}\n",
      "{'_id': ObjectId('5da49db433ab8b08c0229b2a'), 'name': 'Hannah', 'address': 'Mountain 21'}\n",
      "{'_id': ObjectId('5da49db433ab8b08c0229b2b'), 'name': 'Michael', 'address': 'Valley 345'}\n",
      "{'_id': ObjectId('5da49db433ab8b08c0229b2c'), 'name': 'Sandy', 'address': 'Ocean blvd 2'}\n",
      "{'_id': ObjectId('5da49db433ab8b08c0229b2d'), 'name': 'Betty', 'address': 'Green Grass 1'}\n",
      "{'_id': ObjectId('5da49db433ab8b08c0229b2e'), 'name': 'Richard', 'address': 'Sky st 331'}\n",
      "{'_id': ObjectId('5da49db433ab8b08c0229b2f'), 'name': 'Susan', 'address': 'One way 98'}\n",
      "{'_id': ObjectId('5da49db433ab8b08c0229b30'), 'name': 'Vicky', 'address': 'Yellow Garden 2'}\n",
      "{'_id': ObjectId('5da49db433ab8b08c0229b31'), 'name': 'Ben', 'address': 'Park Lane 38'}\n",
      "{'_id': ObjectId('5da49db433ab8b08c0229b32'), 'name': 'William', 'address': 'Central st 954'}\n",
      "{'_id': ObjectId('5da49db433ab8b08c0229b33'), 'name': 'Chuck', 'address': 'Main Road 989'}\n",
      "{'_id': ObjectId('5da49db433ab8b08c0229b34'), 'name': 'Viola', 'address': 'Sideway 1633'}\n",
      "{'_id': 1, 'name': 'John', 'address': 'Highway 37'}\n",
      "{'_id': 2, 'name': 'Peter', 'address': 'Lowstreet 27'}\n",
      "{'_id': 3, 'name': 'Amy', 'address': 'Apple st 652'}\n",
      "{'_id': 4, 'name': 'Hannah', 'address': 'Mountain 21'}\n",
      "{'_id': 5, 'name': 'Michael', 'address': 'Valley 345'}\n",
      "{'_id': 6, 'name': 'Sandy', 'address': 'Ocean blvd 2'}\n",
      "{'_id': 7, 'name': 'Betty', 'address': 'Green Grass 1'}\n",
      "{'_id': 8, 'name': 'Richard', 'address': 'Sky st 331'}\n",
      "{'_id': 9, 'name': 'Susan', 'address': 'One way 98'}\n",
      "{'_id': 10, 'name': 'Vicky', 'address': 'Yellow Garden 2'}\n",
      "{'_id': 11, 'name': 'Ben', 'address': 'Park Lane 38'}\n",
      "{'_id': 12, 'name': 'William', 'address': 'Central st 954'}\n",
      "{'_id': 13, 'name': 'Chuck', 'address': 'Main Road 989'}\n",
      "{'_id': 14, 'name': 'Viola', 'address': 'Sideway 1633'}\n"
     ]
    }
   ],
   "source": [
    "#Find All (Select * from RDBMS)\n",
    "\"\"\"\n",
    "To select data from a table in MongoDB, we can also use the find() method.\n",
    "The find() method returns all occurrences in the selection.\n",
    "The first parameter of the find() method is a query object. \n",
    "In this example we use an empty query object, which selects all documents \n",
    "in the collection.\n",
    "\"\"\"\n",
    "\n",
    "for x in mycol.find():\n",
    "  print(x) "
   ]
  },
  {
   "cell_type": "code",
   "execution_count": 14,
   "metadata": {},
   "outputs": [
    {
     "name": "stdout",
     "output_type": "stream",
     "text": [
      "{'name': 'John', 'address': 'Highway 37'}\n",
      "{'name': 'Peter', 'address': 'Lowstreet 27'}\n",
      "{'name': 'Amy', 'address': 'Apple st 652'}\n",
      "{'name': 'Hannah', 'address': 'Mountain 21'}\n",
      "{'name': 'Michael', 'address': 'Valley 345'}\n",
      "{'name': 'Sandy', 'address': 'Ocean blvd 2'}\n",
      "{'name': 'Betty', 'address': 'Green Grass 1'}\n",
      "{'name': 'Richard', 'address': 'Sky st 331'}\n",
      "{'name': 'Susan', 'address': 'One way 98'}\n",
      "{'name': 'Vicky', 'address': 'Yellow Garden 2'}\n",
      "{'name': 'Ben', 'address': 'Park Lane 38'}\n",
      "{'name': 'William', 'address': 'Central st 954'}\n",
      "{'name': 'Chuck', 'address': 'Main Road 989'}\n",
      "{'name': 'Viola', 'address': 'Sideway 1633'}\n",
      "{'name': 'John', 'address': 'Highway 37'}\n",
      "{'name': 'Peter', 'address': 'Lowstreet 27'}\n",
      "{'name': 'Amy', 'address': 'Apple st 652'}\n",
      "{'name': 'Hannah', 'address': 'Mountain 21'}\n",
      "{'name': 'Michael', 'address': 'Valley 345'}\n",
      "{'name': 'Sandy', 'address': 'Ocean blvd 2'}\n",
      "{'name': 'Betty', 'address': 'Green Grass 1'}\n",
      "{'name': 'Richard', 'address': 'Sky st 331'}\n",
      "{'name': 'Susan', 'address': 'One way 98'}\n",
      "{'name': 'Vicky', 'address': 'Yellow Garden 2'}\n",
      "{'name': 'Ben', 'address': 'Park Lane 38'}\n",
      "{'name': 'William', 'address': 'Central st 954'}\n",
      "{'name': 'Chuck', 'address': 'Main Road 989'}\n",
      "{'name': 'Viola', 'address': 'Sideway 1633'}\n"
     ]
    }
   ],
   "source": [
    "#Return Only Some Fields\n",
    "\"\"\"\n",
    "The second parameter of the find() method is an object describing which \n",
    "fields to include in the result.\n",
    "This parameter is optional, and if omitted, all fields will be included \n",
    "in the result.\n",
    "\"\"\"\n",
    "\n",
    "for x in mycol.find({},{ \"_id\": 0, \"name\": 1, \"address\": 1 }):\n",
    "  print(x) "
   ]
  },
  {
   "cell_type": "code",
   "execution_count": 15,
   "metadata": {},
   "outputs": [
    {
     "name": "stdout",
     "output_type": "stream",
     "text": [
      "{'_id': ObjectId('5da49db433ab8b08c0229b27'), 'name': 'John'}\n",
      "{'_id': ObjectId('5da49db433ab8b08c0229b28'), 'name': 'Peter'}\n",
      "{'_id': ObjectId('5da49db433ab8b08c0229b29'), 'name': 'Amy'}\n",
      "{'_id': ObjectId('5da49db433ab8b08c0229b2a'), 'name': 'Hannah'}\n",
      "{'_id': ObjectId('5da49db433ab8b08c0229b2b'), 'name': 'Michael'}\n",
      "{'_id': ObjectId('5da49db433ab8b08c0229b2c'), 'name': 'Sandy'}\n",
      "{'_id': ObjectId('5da49db433ab8b08c0229b2d'), 'name': 'Betty'}\n",
      "{'_id': ObjectId('5da49db433ab8b08c0229b2e'), 'name': 'Richard'}\n",
      "{'_id': ObjectId('5da49db433ab8b08c0229b2f'), 'name': 'Susan'}\n",
      "{'_id': ObjectId('5da49db433ab8b08c0229b30'), 'name': 'Vicky'}\n",
      "{'_id': ObjectId('5da49db433ab8b08c0229b31'), 'name': 'Ben'}\n",
      "{'_id': ObjectId('5da49db433ab8b08c0229b32'), 'name': 'William'}\n",
      "{'_id': ObjectId('5da49db433ab8b08c0229b33'), 'name': 'Chuck'}\n",
      "{'_id': ObjectId('5da49db433ab8b08c0229b34'), 'name': 'Viola'}\n",
      "{'_id': 1, 'name': 'John'}\n",
      "{'_id': 2, 'name': 'Peter'}\n",
      "{'_id': 3, 'name': 'Amy'}\n",
      "{'_id': 4, 'name': 'Hannah'}\n",
      "{'_id': 5, 'name': 'Michael'}\n",
      "{'_id': 6, 'name': 'Sandy'}\n",
      "{'_id': 7, 'name': 'Betty'}\n",
      "{'_id': 8, 'name': 'Richard'}\n",
      "{'_id': 9, 'name': 'Susan'}\n",
      "{'_id': 10, 'name': 'Vicky'}\n",
      "{'_id': 11, 'name': 'Ben'}\n",
      "{'_id': 12, 'name': 'William'}\n",
      "{'_id': 13, 'name': 'Chuck'}\n",
      "{'_id': 14, 'name': 'Viola'}\n"
     ]
    }
   ],
   "source": [
    "\"\"\"\n",
    "You are not allowed to specify both 0 and 1 values in the same object \n",
    "(except if one of the fields is the _id field). If you specify a field \n",
    "with the value 0,  all other fields get the value 1, and vice versa:\n",
    "\"\"\"\n",
    "\n",
    "#This example will exclude \"address\" from the result:\n",
    "for x in mycol.find({},{ \"address\": 0 }):\n",
    "  print(x)"
   ]
  },
  {
   "cell_type": "code",
   "execution_count": 16,
   "metadata": {},
   "outputs": [
    {
     "name": "stdout",
     "output_type": "stream",
     "text": [
      "{'_id': ObjectId('5da49db433ab8b08c0229b31'), 'name': 'Ben', 'address': 'Park Lane 38'}\n",
      "{'_id': 11, 'name': 'Ben', 'address': 'Park Lane 38'}\n"
     ]
    }
   ],
   "source": [
    "#Python MongoDB Query\n",
    "#Filter the Result\n",
    "\"\"\"\n",
    "When finding documents in a collection, you can filter the result \n",
    "by using a query object.\n",
    "\n",
    "The first argument of the find() method is a query object, and is used \n",
    "to limit the search.\n",
    "\"\"\"\n",
    "#Example: Find document(s) with the address \"Park Lane 38\"\n",
    "\n",
    "myquery = { \"address\": \"Park Lane 38\" }\n",
    "mydoc = mycol.find(myquery)\n",
    "for x in mydoc:\n",
    "  print(x) "
   ]
  },
  {
   "cell_type": "code",
   "execution_count": 17,
   "metadata": {},
   "outputs": [
    {
     "name": "stdout",
     "output_type": "stream",
     "text": [
      "{'_id': ObjectId('5da49db433ab8b08c0229b2b'), 'name': 'Michael', 'address': 'Valley 345'}\n",
      "{'_id': ObjectId('5da49db433ab8b08c0229b2e'), 'name': 'Richard', 'address': 'Sky st 331'}\n",
      "{'_id': ObjectId('5da49db433ab8b08c0229b30'), 'name': 'Vicky', 'address': 'Yellow Garden 2'}\n",
      "{'_id': ObjectId('5da49db433ab8b08c0229b34'), 'name': 'Viola', 'address': 'Sideway 1633'}\n",
      "{'_id': 5, 'name': 'Michael', 'address': 'Valley 345'}\n",
      "{'_id': 8, 'name': 'Richard', 'address': 'Sky st 331'}\n",
      "{'_id': 10, 'name': 'Vicky', 'address': 'Yellow Garden 2'}\n",
      "{'_id': 14, 'name': 'Viola', 'address': 'Sideway 1633'}\n"
     ]
    }
   ],
   "source": [
    "#Advanced Query\n",
    "\"\"\"\n",
    "To make advanced queries you can use modifiers as values in the query object.\n",
    "E.g. to find the documents where the \"address\" field starts with the letter \"S\" or higher (alphabetically), \n",
    "use the greater than modifier: {\"$gt\": \"S\"}:\n",
    "\"\"\"\n",
    "#Example: Find documents where the address starts with the letter \"S\" or higher:\n",
    "\n",
    "myquery = { \"address\": { \"$gt\": \"S\" } }\n",
    "mydoc = mycol.find(myquery)\n",
    "\n",
    "for x in mydoc:\n",
    "  print(x) "
   ]
  },
  {
   "cell_type": "code",
   "execution_count": 18,
   "metadata": {},
   "outputs": [
    {
     "name": "stdout",
     "output_type": "stream",
     "text": [
      "{'_id': ObjectId('5da49db433ab8b08c0229b2e'), 'name': 'Richard', 'address': 'Sky st 331'}\n",
      "{'_id': ObjectId('5da49db433ab8b08c0229b34'), 'name': 'Viola', 'address': 'Sideway 1633'}\n",
      "{'_id': 8, 'name': 'Richard', 'address': 'Sky st 331'}\n",
      "{'_id': 14, 'name': 'Viola', 'address': 'Sideway 1633'}\n"
     ]
    }
   ],
   "source": [
    "#Example: Find documents where the address starts with the letter \"S\":\n",
    "\n",
    "myquery = { \"address\": { \"$regex\": \"^S\" } }\n",
    "mydoc = mycol.find(myquery)\n",
    "for x in mydoc:\n",
    "  print(x) "
   ]
  },
  {
   "cell_type": "code",
   "execution_count": 19,
   "metadata": {},
   "outputs": [
    {
     "name": "stdout",
     "output_type": "stream",
     "text": [
      "{'_id': ObjectId('5da49db433ab8b08c0229b29'), 'name': 'Amy', 'address': 'Apple st 652'}\n",
      "{'_id': 3, 'name': 'Amy', 'address': 'Apple st 652'}\n",
      "{'_id': ObjectId('5da49db433ab8b08c0229b31'), 'name': 'Ben', 'address': 'Park Lane 38'}\n",
      "{'_id': 11, 'name': 'Ben', 'address': 'Park Lane 38'}\n",
      "{'_id': ObjectId('5da49db433ab8b08c0229b2d'), 'name': 'Betty', 'address': 'Green Grass 1'}\n",
      "{'_id': 7, 'name': 'Betty', 'address': 'Green Grass 1'}\n",
      "{'_id': ObjectId('5da49db433ab8b08c0229b33'), 'name': 'Chuck', 'address': 'Main Road 989'}\n",
      "{'_id': 13, 'name': 'Chuck', 'address': 'Main Road 989'}\n",
      "{'_id': ObjectId('5da49db433ab8b08c0229b2a'), 'name': 'Hannah', 'address': 'Mountain 21'}\n",
      "{'_id': 4, 'name': 'Hannah', 'address': 'Mountain 21'}\n",
      "{'_id': ObjectId('5da49db433ab8b08c0229b27'), 'name': 'John', 'address': 'Highway 37'}\n",
      "{'_id': 1, 'name': 'John', 'address': 'Highway 37'}\n",
      "{'_id': ObjectId('5da49db433ab8b08c0229b2b'), 'name': 'Michael', 'address': 'Valley 345'}\n",
      "{'_id': 5, 'name': 'Michael', 'address': 'Valley 345'}\n",
      "{'_id': ObjectId('5da49db433ab8b08c0229b28'), 'name': 'Peter', 'address': 'Lowstreet 27'}\n",
      "{'_id': 2, 'name': 'Peter', 'address': 'Lowstreet 27'}\n",
      "{'_id': ObjectId('5da49db433ab8b08c0229b2e'), 'name': 'Richard', 'address': 'Sky st 331'}\n",
      "{'_id': 8, 'name': 'Richard', 'address': 'Sky st 331'}\n",
      "{'_id': ObjectId('5da49db433ab8b08c0229b2c'), 'name': 'Sandy', 'address': 'Ocean blvd 2'}\n",
      "{'_id': 6, 'name': 'Sandy', 'address': 'Ocean blvd 2'}\n",
      "{'_id': ObjectId('5da49db433ab8b08c0229b2f'), 'name': 'Susan', 'address': 'One way 98'}\n",
      "{'_id': 9, 'name': 'Susan', 'address': 'One way 98'}\n",
      "{'_id': ObjectId('5da49db433ab8b08c0229b30'), 'name': 'Vicky', 'address': 'Yellow Garden 2'}\n",
      "{'_id': 10, 'name': 'Vicky', 'address': 'Yellow Garden 2'}\n",
      "{'_id': ObjectId('5da49db433ab8b08c0229b34'), 'name': 'Viola', 'address': 'Sideway 1633'}\n",
      "{'_id': 14, 'name': 'Viola', 'address': 'Sideway 1633'}\n",
      "{'_id': ObjectId('5da49db433ab8b08c0229b32'), 'name': 'William', 'address': 'Central st 954'}\n",
      "{'_id': 12, 'name': 'William', 'address': 'Central st 954'}\n"
     ]
    }
   ],
   "source": [
    "#Python MongoDB Sort - Sort the Result\n",
    "\"\"\"\n",
    "Use the sort() method to sort the result in ascending or descending order.\n",
    "The sort() method takes one parameter for \"fieldname\" and one parameter \n",
    "for \"direction\" (ascending is the default direction).\n",
    "\"\"\"\n",
    "#Example:  Sort the result alphabetically by name:\n",
    "\n",
    "mydoc = mycol.find().sort(\"name\")\n",
    "for x in mydoc:\n",
    "  print(x) "
   ]
  },
  {
   "cell_type": "code",
   "execution_count": 20,
   "metadata": {},
   "outputs": [
    {
     "name": "stdout",
     "output_type": "stream",
     "text": [
      "{'_id': ObjectId('5da49db433ab8b08c0229b32'), 'name': 'William', 'address': 'Central st 954'}\n",
      "{'_id': 12, 'name': 'William', 'address': 'Central st 954'}\n",
      "{'_id': ObjectId('5da49db433ab8b08c0229b34'), 'name': 'Viola', 'address': 'Sideway 1633'}\n",
      "{'_id': 14, 'name': 'Viola', 'address': 'Sideway 1633'}\n",
      "{'_id': ObjectId('5da49db433ab8b08c0229b30'), 'name': 'Vicky', 'address': 'Yellow Garden 2'}\n",
      "{'_id': 10, 'name': 'Vicky', 'address': 'Yellow Garden 2'}\n",
      "{'_id': ObjectId('5da49db433ab8b08c0229b2f'), 'name': 'Susan', 'address': 'One way 98'}\n",
      "{'_id': 9, 'name': 'Susan', 'address': 'One way 98'}\n",
      "{'_id': ObjectId('5da49db433ab8b08c0229b2c'), 'name': 'Sandy', 'address': 'Ocean blvd 2'}\n",
      "{'_id': 6, 'name': 'Sandy', 'address': 'Ocean blvd 2'}\n",
      "{'_id': ObjectId('5da49db433ab8b08c0229b2e'), 'name': 'Richard', 'address': 'Sky st 331'}\n",
      "{'_id': 8, 'name': 'Richard', 'address': 'Sky st 331'}\n",
      "{'_id': ObjectId('5da49db433ab8b08c0229b28'), 'name': 'Peter', 'address': 'Lowstreet 27'}\n",
      "{'_id': 2, 'name': 'Peter', 'address': 'Lowstreet 27'}\n",
      "{'_id': ObjectId('5da49db433ab8b08c0229b2b'), 'name': 'Michael', 'address': 'Valley 345'}\n",
      "{'_id': 5, 'name': 'Michael', 'address': 'Valley 345'}\n",
      "{'_id': ObjectId('5da49db433ab8b08c0229b27'), 'name': 'John', 'address': 'Highway 37'}\n",
      "{'_id': 1, 'name': 'John', 'address': 'Highway 37'}\n",
      "{'_id': ObjectId('5da49db433ab8b08c0229b2a'), 'name': 'Hannah', 'address': 'Mountain 21'}\n",
      "{'_id': 4, 'name': 'Hannah', 'address': 'Mountain 21'}\n",
      "{'_id': ObjectId('5da49db433ab8b08c0229b33'), 'name': 'Chuck', 'address': 'Main Road 989'}\n",
      "{'_id': 13, 'name': 'Chuck', 'address': 'Main Road 989'}\n",
      "{'_id': ObjectId('5da49db433ab8b08c0229b2d'), 'name': 'Betty', 'address': 'Green Grass 1'}\n",
      "{'_id': 7, 'name': 'Betty', 'address': 'Green Grass 1'}\n",
      "{'_id': ObjectId('5da49db433ab8b08c0229b31'), 'name': 'Ben', 'address': 'Park Lane 38'}\n",
      "{'_id': 11, 'name': 'Ben', 'address': 'Park Lane 38'}\n",
      "{'_id': ObjectId('5da49db433ab8b08c0229b29'), 'name': 'Amy', 'address': 'Apple st 652'}\n",
      "{'_id': 3, 'name': 'Amy', 'address': 'Apple st 652'}\n"
     ]
    }
   ],
   "source": [
    "# Sort Descending:\n",
    "#sort(\"name\", 1) #ascending\n",
    "#sort(\"name\", -1) #descending\n",
    "\n",
    "mydoc = mycol.find().sort(\"name\", -1)\n",
    "for x in mydoc:\n",
    "  print(x) "
   ]
  },
  {
   "cell_type": "code",
   "execution_count": 21,
   "metadata": {},
   "outputs": [
    {
     "name": "stdout",
     "output_type": "stream",
     "text": [
      "{'_id': ObjectId('5da49db433ab8b08c0229b27'), 'name': 'John', 'address': 'Highway 37'}\n",
      "{'_id': ObjectId('5da49db433ab8b08c0229b28'), 'name': 'Peter', 'address': 'Lowstreet 27'}\n",
      "{'_id': ObjectId('5da49db433ab8b08c0229b29'), 'name': 'Amy', 'address': 'Apple st 652'}\n",
      "{'_id': ObjectId('5da49db433ab8b08c0229b2a'), 'name': 'Hannah', 'address': 'Mountain 21'}\n",
      "{'_id': ObjectId('5da49db433ab8b08c0229b2b'), 'name': 'Michael', 'address': 'Canyon 123'}\n",
      "{'_id': ObjectId('5da49db433ab8b08c0229b2c'), 'name': 'Sandy', 'address': 'Ocean blvd 2'}\n",
      "{'_id': ObjectId('5da49db433ab8b08c0229b2d'), 'name': 'Betty', 'address': 'Green Grass 1'}\n",
      "{'_id': ObjectId('5da49db433ab8b08c0229b2e'), 'name': 'Richard', 'address': 'Sky st 331'}\n",
      "{'_id': ObjectId('5da49db433ab8b08c0229b2f'), 'name': 'Susan', 'address': 'One way 98'}\n",
      "{'_id': ObjectId('5da49db433ab8b08c0229b30'), 'name': 'Vicky', 'address': 'Yellow Garden 2'}\n",
      "{'_id': ObjectId('5da49db433ab8b08c0229b31'), 'name': 'Ben', 'address': 'Park Lane 38'}\n",
      "{'_id': ObjectId('5da49db433ab8b08c0229b32'), 'name': 'William', 'address': 'Central st 954'}\n",
      "{'_id': ObjectId('5da49db433ab8b08c0229b33'), 'name': 'Chuck', 'address': 'Main Road 989'}\n",
      "{'_id': ObjectId('5da49db433ab8b08c0229b34'), 'name': 'Viola', 'address': 'Sideway 1633'}\n",
      "{'_id': 1, 'name': 'John', 'address': 'Highway 37'}\n",
      "{'_id': 2, 'name': 'Peter', 'address': 'Lowstreet 27'}\n",
      "{'_id': 3, 'name': 'Amy', 'address': 'Apple st 652'}\n",
      "{'_id': 4, 'name': 'Hannah', 'address': 'Mountain 21'}\n",
      "{'_id': 5, 'name': 'Michael', 'address': 'Valley 345'}\n",
      "{'_id': 6, 'name': 'Sandy', 'address': 'Ocean blvd 2'}\n",
      "{'_id': 7, 'name': 'Betty', 'address': 'Green Grass 1'}\n",
      "{'_id': 8, 'name': 'Richard', 'address': 'Sky st 331'}\n",
      "{'_id': 9, 'name': 'Susan', 'address': 'One way 98'}\n",
      "{'_id': 10, 'name': 'Vicky', 'address': 'Yellow Garden 2'}\n",
      "{'_id': 11, 'name': 'Ben', 'address': 'Park Lane 38'}\n",
      "{'_id': 12, 'name': 'William', 'address': 'Central st 954'}\n",
      "{'_id': 13, 'name': 'Chuck', 'address': 'Main Road 989'}\n",
      "{'_id': 14, 'name': 'Viola', 'address': 'Sideway 1633'}\n"
     ]
    }
   ],
   "source": [
    "#Update Collection\n",
    "\"\"\"\n",
    "You can update a record, or document as it is called in MongoDB, \n",
    "by using the update_one() method.\n",
    "The first parameter of the update_one() method is a query object defining \n",
    "which document to update.\n",
    "The second parameter is an object defining the new values of the document.\n",
    "Note: If the query finds more than one record, only the first occurrence \n",
    "is updated.\n",
    "\"\"\"\n",
    "#Example: Change the address from \"Valley 345\" to \"Canyon 123\":\n",
    "\n",
    "myquery = { \"address\": \"Valley 345\" }\n",
    "newvalues = { \"$set\": { \"address\": \"Canyon 123\" } }\n",
    "mycol.update_one(myquery, newvalues)\n",
    "\n",
    "#print \"customers\" after the update:\n",
    "for x in mycol.find():\n",
    "  print(x) "
   ]
  },
  {
   "cell_type": "code",
   "execution_count": 22,
   "metadata": {},
   "outputs": [
    {
     "name": "stdout",
     "output_type": "stream",
     "text": [
      "4 documents updated.\n"
     ]
    }
   ],
   "source": [
    "# Update Many\n",
    "\"\"\"\n",
    "To update all documents that meets the criteria of the query, \n",
    "use the update_many() method.\n",
    "\"\"\"\n",
    "#Example: Update all documents where the address starts with the letter \"S\"\n",
    "\n",
    "myquery = { \"address\": { \"$regex\": \"^S\" } }\n",
    "newvalues = { \"$set\": { \"name\": \"Minnie\" } }\n",
    "\n",
    "x = mycol.update_many(myquery, newvalues)\n",
    "\n",
    "print(x.modified_count, \"documents updated.\") "
   ]
  },
  {
   "cell_type": "code",
   "execution_count": 23,
   "metadata": {},
   "outputs": [
    {
     "data": {
      "text/plain": [
       "<pymongo.results.DeleteResult at 0x178e41e8d48>"
      ]
     },
     "execution_count": 23,
     "metadata": {},
     "output_type": "execute_result"
    }
   ],
   "source": [
    "#Python MongoDB Delete Document\n",
    "#Delete Document\n",
    "\"\"\"\n",
    "To delete one document, we use the delete_one() method.\n",
    "The first parameter of the delete_one() method is a \n",
    "query object defining which document to delete.\n",
    "\"\"\"\n",
    "#Note: If the query finds more than one document, \n",
    "# only the first occurrence is deleted.\n",
    "\n",
    "myquery = { \"address\": \"Mountain 21\" }\n",
    "mycol.delete_one(myquery) "
   ]
  },
  {
   "cell_type": "code",
   "execution_count": 24,
   "metadata": {},
   "outputs": [
    {
     "name": "stdout",
     "output_type": "stream",
     "text": [
      "4  documents deleted.\n"
     ]
    }
   ],
   "source": [
    "#Delete Many Documents\n",
    "\"\"\"\n",
    "To delete more than one document, use the delete_many() method.\n",
    "The first parameter of the delete_many() method is a query object \n",
    "defining which documents to delete.\n",
    "\"\"\"\n",
    "#Example: Delete all documents were the address starts with the letter S:\n",
    "\n",
    "myquery = { \"address\": {\"$regex\": \"^S\"} }\n",
    "x = mycol.delete_many(myquery)\n",
    "print(x.deleted_count, \" documents deleted.\") "
   ]
  },
  {
   "cell_type": "code",
   "execution_count": 25,
   "metadata": {},
   "outputs": [
    {
     "name": "stdout",
     "output_type": "stream",
     "text": [
      "23  documents deleted.\n"
     ]
    }
   ],
   "source": [
    "# Delete All Documents in a Collection\n",
    "\"\"\"\n",
    "To delete all documents in a collection, \n",
    "pass an empty query object to the delete_many() method:\n",
    "\"\"\"\n",
    "#Example:  Delete all documents in the \"customers\" collection\n",
    "\n",
    "x = mycol.delete_many({})\n",
    "print(x.deleted_count, \" documents deleted.\") \n"
   ]
  },
  {
   "cell_type": "code",
   "execution_count": 26,
   "metadata": {},
   "outputs": [],
   "source": [
    "#Python MongoDB Drop Collection\n",
    "\"\"\"\n",
    "You can delete a table, or collection as it is called in MongoDB, \n",
    "by using the drop() method.\n",
    "\"\"\"\n",
    "#Example: Delete the \"customers\" collection\n",
    "#The drop() method returns true if the collection was dropped successfully, \n",
    "#and false if the collection does not exist.\n",
    "\n",
    "mycol.drop() "
   ]
  },
  {
   "cell_type": "code",
   "execution_count": null,
   "metadata": {},
   "outputs": [],
   "source": []
  }
 ],
 "metadata": {
  "kernelspec": {
   "display_name": "Python 3",
   "language": "python",
   "name": "python3"
  },
  "language_info": {
   "codemirror_mode": {
    "name": "ipython",
    "version": 3
   },
   "file_extension": ".py",
   "mimetype": "text/x-python",
   "name": "python",
   "nbconvert_exporter": "python",
   "pygments_lexer": "ipython3",
   "version": "3.7.3"
  }
 },
 "nbformat": 4,
 "nbformat_minor": 2
}
