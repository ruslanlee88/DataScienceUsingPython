{
 "cells": [
  {
   "cell_type": "code",
   "execution_count": 1,
   "metadata": {},
   "outputs": [],
   "source": [
    "import numpy as np\n",
    "import pandas as pd\n",
    "import datetime"
   ]
  },
  {
   "cell_type": "code",
   "execution_count": 2,
   "metadata": {},
   "outputs": [
    {
     "ename": "HTTPError",
     "evalue": "HTTP Error 401: Unauthorized",
     "output_type": "error",
     "traceback": [
      "\u001b[1;31m---------------------------------------------------------------------------\u001b[0m",
      "\u001b[1;31mHTTPError\u001b[0m                                 Traceback (most recent call last)",
      "\u001b[1;32m<ipython-input-2-1983668954d0>\u001b[0m in \u001b[0;36m<module>\u001b[1;34m\u001b[0m\n\u001b[1;32m----> 1\u001b[1;33m \u001b[0mferrara\u001b[0m \u001b[1;33m=\u001b[0m \u001b[0mpd\u001b[0m\u001b[1;33m.\u001b[0m\u001b[0mread_json\u001b[0m\u001b[1;33m(\u001b[0m\u001b[1;34m'http://api.openweathermap.org/data/2.5/history/city?q=Ferrara,IT'\u001b[0m\u001b[1;33m)\u001b[0m\u001b[1;33m\u001b[0m\u001b[1;33m\u001b[0m\u001b[0m\n\u001b[0m",
      "\u001b[1;32m~\\Anaconda3\\lib\\site-packages\\pandas\\io\\json\\json.py\u001b[0m in \u001b[0;36mread_json\u001b[1;34m(path_or_buf, orient, typ, dtype, convert_axes, convert_dates, keep_default_dates, numpy, precise_float, date_unit, encoding, lines, chunksize, compression)\u001b[0m\n\u001b[0;32m    406\u001b[0m     \u001b[0mcompression\u001b[0m \u001b[1;33m=\u001b[0m \u001b[0m_infer_compression\u001b[0m\u001b[1;33m(\u001b[0m\u001b[0mpath_or_buf\u001b[0m\u001b[1;33m,\u001b[0m \u001b[0mcompression\u001b[0m\u001b[1;33m)\u001b[0m\u001b[1;33m\u001b[0m\u001b[1;33m\u001b[0m\u001b[0m\n\u001b[0;32m    407\u001b[0m     filepath_or_buffer, _, compression, should_close = get_filepath_or_buffer(\n\u001b[1;32m--> 408\u001b[1;33m         \u001b[0mpath_or_buf\u001b[0m\u001b[1;33m,\u001b[0m \u001b[0mencoding\u001b[0m\u001b[1;33m=\u001b[0m\u001b[0mencoding\u001b[0m\u001b[1;33m,\u001b[0m \u001b[0mcompression\u001b[0m\u001b[1;33m=\u001b[0m\u001b[0mcompression\u001b[0m\u001b[1;33m,\u001b[0m\u001b[1;33m\u001b[0m\u001b[1;33m\u001b[0m\u001b[0m\n\u001b[0m\u001b[0;32m    409\u001b[0m     )\n\u001b[0;32m    410\u001b[0m \u001b[1;33m\u001b[0m\u001b[0m\n",
      "\u001b[1;32m~\\Anaconda3\\lib\\site-packages\\pandas\\io\\common.py\u001b[0m in \u001b[0;36mget_filepath_or_buffer\u001b[1;34m(filepath_or_buffer, encoding, compression, mode)\u001b[0m\n\u001b[0;32m    193\u001b[0m \u001b[1;33m\u001b[0m\u001b[0m\n\u001b[0;32m    194\u001b[0m     \u001b[1;32mif\u001b[0m \u001b[0m_is_url\u001b[0m\u001b[1;33m(\u001b[0m\u001b[0mfilepath_or_buffer\u001b[0m\u001b[1;33m)\u001b[0m\u001b[1;33m:\u001b[0m\u001b[1;33m\u001b[0m\u001b[1;33m\u001b[0m\u001b[0m\n\u001b[1;32m--> 195\u001b[1;33m         \u001b[0mreq\u001b[0m \u001b[1;33m=\u001b[0m \u001b[0m_urlopen\u001b[0m\u001b[1;33m(\u001b[0m\u001b[0mfilepath_or_buffer\u001b[0m\u001b[1;33m)\u001b[0m\u001b[1;33m\u001b[0m\u001b[1;33m\u001b[0m\u001b[0m\n\u001b[0m\u001b[0;32m    196\u001b[0m         \u001b[0mcontent_encoding\u001b[0m \u001b[1;33m=\u001b[0m \u001b[0mreq\u001b[0m\u001b[1;33m.\u001b[0m\u001b[0mheaders\u001b[0m\u001b[1;33m.\u001b[0m\u001b[0mget\u001b[0m\u001b[1;33m(\u001b[0m\u001b[1;34m'Content-Encoding'\u001b[0m\u001b[1;33m,\u001b[0m \u001b[1;32mNone\u001b[0m\u001b[1;33m)\u001b[0m\u001b[1;33m\u001b[0m\u001b[1;33m\u001b[0m\u001b[0m\n\u001b[0;32m    197\u001b[0m         \u001b[1;32mif\u001b[0m \u001b[0mcontent_encoding\u001b[0m \u001b[1;33m==\u001b[0m \u001b[1;34m'gzip'\u001b[0m\u001b[1;33m:\u001b[0m\u001b[1;33m\u001b[0m\u001b[1;33m\u001b[0m\u001b[0m\n",
      "\u001b[1;32m~\\Anaconda3\\lib\\urllib\\request.py\u001b[0m in \u001b[0;36murlopen\u001b[1;34m(url, data, timeout, cafile, capath, cadefault, context)\u001b[0m\n\u001b[0;32m    220\u001b[0m     \u001b[1;32melse\u001b[0m\u001b[1;33m:\u001b[0m\u001b[1;33m\u001b[0m\u001b[1;33m\u001b[0m\u001b[0m\n\u001b[0;32m    221\u001b[0m         \u001b[0mopener\u001b[0m \u001b[1;33m=\u001b[0m \u001b[0m_opener\u001b[0m\u001b[1;33m\u001b[0m\u001b[1;33m\u001b[0m\u001b[0m\n\u001b[1;32m--> 222\u001b[1;33m     \u001b[1;32mreturn\u001b[0m \u001b[0mopener\u001b[0m\u001b[1;33m.\u001b[0m\u001b[0mopen\u001b[0m\u001b[1;33m(\u001b[0m\u001b[0murl\u001b[0m\u001b[1;33m,\u001b[0m \u001b[0mdata\u001b[0m\u001b[1;33m,\u001b[0m \u001b[0mtimeout\u001b[0m\u001b[1;33m)\u001b[0m\u001b[1;33m\u001b[0m\u001b[1;33m\u001b[0m\u001b[0m\n\u001b[0m\u001b[0;32m    223\u001b[0m \u001b[1;33m\u001b[0m\u001b[0m\n\u001b[0;32m    224\u001b[0m \u001b[1;32mdef\u001b[0m \u001b[0minstall_opener\u001b[0m\u001b[1;33m(\u001b[0m\u001b[0mopener\u001b[0m\u001b[1;33m)\u001b[0m\u001b[1;33m:\u001b[0m\u001b[1;33m\u001b[0m\u001b[1;33m\u001b[0m\u001b[0m\n",
      "\u001b[1;32m~\\Anaconda3\\lib\\urllib\\request.py\u001b[0m in \u001b[0;36mopen\u001b[1;34m(self, fullurl, data, timeout)\u001b[0m\n\u001b[0;32m    529\u001b[0m         \u001b[1;32mfor\u001b[0m \u001b[0mprocessor\u001b[0m \u001b[1;32min\u001b[0m \u001b[0mself\u001b[0m\u001b[1;33m.\u001b[0m\u001b[0mprocess_response\u001b[0m\u001b[1;33m.\u001b[0m\u001b[0mget\u001b[0m\u001b[1;33m(\u001b[0m\u001b[0mprotocol\u001b[0m\u001b[1;33m,\u001b[0m \u001b[1;33m[\u001b[0m\u001b[1;33m]\u001b[0m\u001b[1;33m)\u001b[0m\u001b[1;33m:\u001b[0m\u001b[1;33m\u001b[0m\u001b[1;33m\u001b[0m\u001b[0m\n\u001b[0;32m    530\u001b[0m             \u001b[0mmeth\u001b[0m \u001b[1;33m=\u001b[0m \u001b[0mgetattr\u001b[0m\u001b[1;33m(\u001b[0m\u001b[0mprocessor\u001b[0m\u001b[1;33m,\u001b[0m \u001b[0mmeth_name\u001b[0m\u001b[1;33m)\u001b[0m\u001b[1;33m\u001b[0m\u001b[1;33m\u001b[0m\u001b[0m\n\u001b[1;32m--> 531\u001b[1;33m             \u001b[0mresponse\u001b[0m \u001b[1;33m=\u001b[0m \u001b[0mmeth\u001b[0m\u001b[1;33m(\u001b[0m\u001b[0mreq\u001b[0m\u001b[1;33m,\u001b[0m \u001b[0mresponse\u001b[0m\u001b[1;33m)\u001b[0m\u001b[1;33m\u001b[0m\u001b[1;33m\u001b[0m\u001b[0m\n\u001b[0m\u001b[0;32m    532\u001b[0m \u001b[1;33m\u001b[0m\u001b[0m\n\u001b[0;32m    533\u001b[0m         \u001b[1;32mreturn\u001b[0m \u001b[0mresponse\u001b[0m\u001b[1;33m\u001b[0m\u001b[1;33m\u001b[0m\u001b[0m\n",
      "\u001b[1;32m~\\Anaconda3\\lib\\urllib\\request.py\u001b[0m in \u001b[0;36mhttp_response\u001b[1;34m(self, request, response)\u001b[0m\n\u001b[0;32m    639\u001b[0m         \u001b[1;32mif\u001b[0m \u001b[1;32mnot\u001b[0m \u001b[1;33m(\u001b[0m\u001b[1;36m200\u001b[0m \u001b[1;33m<=\u001b[0m \u001b[0mcode\u001b[0m \u001b[1;33m<\u001b[0m \u001b[1;36m300\u001b[0m\u001b[1;33m)\u001b[0m\u001b[1;33m:\u001b[0m\u001b[1;33m\u001b[0m\u001b[1;33m\u001b[0m\u001b[0m\n\u001b[0;32m    640\u001b[0m             response = self.parent.error(\n\u001b[1;32m--> 641\u001b[1;33m                 'http', request, response, code, msg, hdrs)\n\u001b[0m\u001b[0;32m    642\u001b[0m \u001b[1;33m\u001b[0m\u001b[0m\n\u001b[0;32m    643\u001b[0m         \u001b[1;32mreturn\u001b[0m \u001b[0mresponse\u001b[0m\u001b[1;33m\u001b[0m\u001b[1;33m\u001b[0m\u001b[0m\n",
      "\u001b[1;32m~\\Anaconda3\\lib\\urllib\\request.py\u001b[0m in \u001b[0;36merror\u001b[1;34m(self, proto, *args)\u001b[0m\n\u001b[0;32m    567\u001b[0m         \u001b[1;32mif\u001b[0m \u001b[0mhttp_err\u001b[0m\u001b[1;33m:\u001b[0m\u001b[1;33m\u001b[0m\u001b[1;33m\u001b[0m\u001b[0m\n\u001b[0;32m    568\u001b[0m             \u001b[0margs\u001b[0m \u001b[1;33m=\u001b[0m \u001b[1;33m(\u001b[0m\u001b[0mdict\u001b[0m\u001b[1;33m,\u001b[0m \u001b[1;34m'default'\u001b[0m\u001b[1;33m,\u001b[0m \u001b[1;34m'http_error_default'\u001b[0m\u001b[1;33m)\u001b[0m \u001b[1;33m+\u001b[0m \u001b[0morig_args\u001b[0m\u001b[1;33m\u001b[0m\u001b[1;33m\u001b[0m\u001b[0m\n\u001b[1;32m--> 569\u001b[1;33m             \u001b[1;32mreturn\u001b[0m \u001b[0mself\u001b[0m\u001b[1;33m.\u001b[0m\u001b[0m_call_chain\u001b[0m\u001b[1;33m(\u001b[0m\u001b[1;33m*\u001b[0m\u001b[0margs\u001b[0m\u001b[1;33m)\u001b[0m\u001b[1;33m\u001b[0m\u001b[1;33m\u001b[0m\u001b[0m\n\u001b[0m\u001b[0;32m    570\u001b[0m \u001b[1;33m\u001b[0m\u001b[0m\n\u001b[0;32m    571\u001b[0m \u001b[1;31m# XXX probably also want an abstract factory that knows when it makes\u001b[0m\u001b[1;33m\u001b[0m\u001b[1;33m\u001b[0m\u001b[1;33m\u001b[0m\u001b[0m\n",
      "\u001b[1;32m~\\Anaconda3\\lib\\urllib\\request.py\u001b[0m in \u001b[0;36m_call_chain\u001b[1;34m(self, chain, kind, meth_name, *args)\u001b[0m\n\u001b[0;32m    501\u001b[0m         \u001b[1;32mfor\u001b[0m \u001b[0mhandler\u001b[0m \u001b[1;32min\u001b[0m \u001b[0mhandlers\u001b[0m\u001b[1;33m:\u001b[0m\u001b[1;33m\u001b[0m\u001b[1;33m\u001b[0m\u001b[0m\n\u001b[0;32m    502\u001b[0m             \u001b[0mfunc\u001b[0m \u001b[1;33m=\u001b[0m \u001b[0mgetattr\u001b[0m\u001b[1;33m(\u001b[0m\u001b[0mhandler\u001b[0m\u001b[1;33m,\u001b[0m \u001b[0mmeth_name\u001b[0m\u001b[1;33m)\u001b[0m\u001b[1;33m\u001b[0m\u001b[1;33m\u001b[0m\u001b[0m\n\u001b[1;32m--> 503\u001b[1;33m             \u001b[0mresult\u001b[0m \u001b[1;33m=\u001b[0m \u001b[0mfunc\u001b[0m\u001b[1;33m(\u001b[0m\u001b[1;33m*\u001b[0m\u001b[0margs\u001b[0m\u001b[1;33m)\u001b[0m\u001b[1;33m\u001b[0m\u001b[1;33m\u001b[0m\u001b[0m\n\u001b[0m\u001b[0;32m    504\u001b[0m             \u001b[1;32mif\u001b[0m \u001b[0mresult\u001b[0m \u001b[1;32mis\u001b[0m \u001b[1;32mnot\u001b[0m \u001b[1;32mNone\u001b[0m\u001b[1;33m:\u001b[0m\u001b[1;33m\u001b[0m\u001b[1;33m\u001b[0m\u001b[0m\n\u001b[0;32m    505\u001b[0m                 \u001b[1;32mreturn\u001b[0m \u001b[0mresult\u001b[0m\u001b[1;33m\u001b[0m\u001b[1;33m\u001b[0m\u001b[0m\n",
      "\u001b[1;32m~\\Anaconda3\\lib\\urllib\\request.py\u001b[0m in \u001b[0;36mhttp_error_default\u001b[1;34m(self, req, fp, code, msg, hdrs)\u001b[0m\n\u001b[0;32m    647\u001b[0m \u001b[1;32mclass\u001b[0m \u001b[0mHTTPDefaultErrorHandler\u001b[0m\u001b[1;33m(\u001b[0m\u001b[0mBaseHandler\u001b[0m\u001b[1;33m)\u001b[0m\u001b[1;33m:\u001b[0m\u001b[1;33m\u001b[0m\u001b[1;33m\u001b[0m\u001b[0m\n\u001b[0;32m    648\u001b[0m     \u001b[1;32mdef\u001b[0m \u001b[0mhttp_error_default\u001b[0m\u001b[1;33m(\u001b[0m\u001b[0mself\u001b[0m\u001b[1;33m,\u001b[0m \u001b[0mreq\u001b[0m\u001b[1;33m,\u001b[0m \u001b[0mfp\u001b[0m\u001b[1;33m,\u001b[0m \u001b[0mcode\u001b[0m\u001b[1;33m,\u001b[0m \u001b[0mmsg\u001b[0m\u001b[1;33m,\u001b[0m \u001b[0mhdrs\u001b[0m\u001b[1;33m)\u001b[0m\u001b[1;33m:\u001b[0m\u001b[1;33m\u001b[0m\u001b[1;33m\u001b[0m\u001b[0m\n\u001b[1;32m--> 649\u001b[1;33m         \u001b[1;32mraise\u001b[0m \u001b[0mHTTPError\u001b[0m\u001b[1;33m(\u001b[0m\u001b[0mreq\u001b[0m\u001b[1;33m.\u001b[0m\u001b[0mfull_url\u001b[0m\u001b[1;33m,\u001b[0m \u001b[0mcode\u001b[0m\u001b[1;33m,\u001b[0m \u001b[0mmsg\u001b[0m\u001b[1;33m,\u001b[0m \u001b[0mhdrs\u001b[0m\u001b[1;33m,\u001b[0m \u001b[0mfp\u001b[0m\u001b[1;33m)\u001b[0m\u001b[1;33m\u001b[0m\u001b[1;33m\u001b[0m\u001b[0m\n\u001b[0m\u001b[0;32m    650\u001b[0m \u001b[1;33m\u001b[0m\u001b[0m\n\u001b[0;32m    651\u001b[0m \u001b[1;32mclass\u001b[0m \u001b[0mHTTPRedirectHandler\u001b[0m\u001b[1;33m(\u001b[0m\u001b[0mBaseHandler\u001b[0m\u001b[1;33m)\u001b[0m\u001b[1;33m:\u001b[0m\u001b[1;33m\u001b[0m\u001b[1;33m\u001b[0m\u001b[0m\n",
      "\u001b[1;31mHTTPError\u001b[0m: HTTP Error 401: Unauthorized"
     ]
    }
   ],
   "source": [
    "ferrara = pd.read_json('http://api.openweathermap.org/data/2.5/history/city?q=Ferrara,IT')"
   ]
  },
  {
   "cell_type": "code",
   "execution_count": null,
   "metadata": {},
   "outputs": [],
   "source": [
    "torino = pd.read_json('http://api.openweathermap.org/data/2.5/history/city?q=Torino,IT')"
   ]
  },
  {
   "cell_type": "code",
   "execution_count": null,
   "metadata": {},
   "outputs": [],
   "source": [
    "mantova = pd.read_json('http://api.openweathermap.org/data/2.5/history/city?q=Mantova,IT')"
   ]
  },
  {
   "cell_type": "code",
   "execution_count": null,
   "metadata": {},
   "outputs": [],
   "source": [
    "milano = pd.read_json('http://api.openweathermap.org/data/2.5/history/city?q=Milano,IT')"
   ]
  },
  {
   "cell_type": "code",
   "execution_count": null,
   "metadata": {},
   "outputs": [],
   "source": [
    "ravenna = pd.read_json('http://api.openweathermap.org/data/2.5/history/city?q=Ravenna,IT')  "
   ]
  },
  {
   "cell_type": "code",
   "execution_count": null,
   "metadata": {},
   "outputs": [],
   "source": [
    "asti = pd.read_json('http://api.openweathermap.org/data/2.5/history/city?q=Asti,IT')"
   ]
  },
  {
   "cell_type": "code",
   "execution_count": null,
   "metadata": {},
   "outputs": [],
   "source": [
    "bologna = pd.read_json('http://api.openweathermap.org/data/2.5/history/city?q=Bologna,IT')"
   ]
  },
  {
   "cell_type": "code",
   "execution_count": null,
   "metadata": {},
   "outputs": [],
   "source": [
    "piacenza = pd.read_json('http://api.openweathermap.org/data/2.5/history/city?q=Piacenza,IT')"
   ]
  },
  {
   "cell_type": "code",
   "execution_count": null,
   "metadata": {},
   "outputs": [],
   "source": [
    "cesena = pd.read_json('http://api.openweathermap.org/data/2.5/history/city?q=Cesena,IT')"
   ]
  },
  {
   "cell_type": "code",
   "execution_count": null,
   "metadata": {},
   "outputs": [],
   "source": [
    "faenza = pd.read_json('http://api.openweathermap.org/data/2.5/history/city?q=Faenza,IT')"
   ]
  },
  {
   "cell_type": "code",
   "execution_count": null,
   "metadata": {},
   "outputs": [],
   "source": [
    "faenza"
   ]
  },
  {
   "cell_type": "code",
   "execution_count": null,
   "metadata": {},
   "outputs": [],
   "source": [
    "def prepare(city_list,city_name):\n",
    "    temp = [ ]\n",
    "    humidity = [ ]\n",
    "    pressure = [ ]\n",
    "    description = [ ]\n",
    "    dt = [ ]\n",
    "    wind_speed = [ ]\n",
    "    wind_deg = [ ]\n",
    "    for row in city_list:\n",
    "       temp.append(row['main']['temp']-273.15)\n",
    "       humidity.append(row['main']['humidity'])\n",
    "       pressure.append(row['main']['pressure'])\n",
    "       description.append(row['weather'][0]['description'])\n",
    "       dt.append(row['dt'])\n",
    "       wind_speed.append(row['wind']['speed'])\n",
    "       wind_deg.append(row['wind']['deg'])\n",
    "    headings = ['temp','humidity','pressure','description','dt','wind_speed','wind_deg']\n",
    "    data = [temp,humidity,pressure,description,dt,wind_speed,wind_deg]\n",
    "    df = pd.DataFrame(data,index=headings)\n",
    "    city = df.T\n",
    "    city['city'] = city_name\n",
    "    city['day'] = city['dt'].apply(datetime.datetime.fromtimestamp)\n",
    "    return city"
   ]
  },
  {
   "cell_type": "code",
   "execution_count": null,
   "metadata": {},
   "outputs": [],
   "source": [
    "df_ferrara = prepare(ferrara.list,'Ferrara')\n",
    "df_milano = prepare(milano.list,'Milano')\n",
    "df_mantova = prepare(mantova.list,'Mantova')\n",
    "df_ravenna = prepare(ravenna.list,'Ravenna')\n",
    "df_torino = prepare(torino.list,'Torino')\n",
    "#df_alessandria = prepare(alessandria.list,'Alessandria')\n",
    "df_asti = prepare(asti.list,'Asti')\n",
    "df_bologna = prepare(bologna.list,'Bologna')\n",
    "df_piacenza = prepare(piacenza.list,'Piacenza')\n",
    "df_cesena = prepare(cesena.list,'Cesena')\n",
    "df_faenza = prepare(faenza.list,'Faenza')"
   ]
  },
  {
   "cell_type": "code",
   "execution_count": null,
   "metadata": {},
   "outputs": [],
   "source": [
    "df_faenza"
   ]
  },
  {
   "cell_type": "code",
   "execution_count": null,
   "metadata": {},
   "outputs": [],
   "source": [
    "print df_ferrara.shape\n",
    "print df_milano.shape\n",
    "print df_mantova.shape\n",
    "print df_ravenna.shape\n",
    "print df_torino.shape\n",
    "print df_asti.shape\n",
    "print df_bologna.shape\n",
    "print df_piacenza.shape\n",
    "print df_cesena.shape\n",
    "print df_faenza.shape\n"
   ]
  },
  {
   "cell_type": "code",
   "execution_count": null,
   "metadata": {},
   "outputs": [],
   "source": [
    "#http://it.thetimenow.com/distance-calculator.php\n",
    "#(Comacchio)\n",
    "df_ravenna['dist'] = 8\n",
    "df_cesena['dist'] = 14\n",
    "df_faenza['dist'] = 37\n",
    "df_ferrara['dist'] = 47\n",
    "df_bologna['dist'] = 71\n",
    "df_mantova['dist'] = 121 \n",
    "df_piacenza['dist'] = 200\n",
    "df_milano['dist'] = 250\n",
    "df_asti['dist'] = 315\n",
    "df_torino['dist'] = 357\n"
   ]
  },
  {
   "cell_type": "code",
   "execution_count": null,
   "metadata": {},
   "outputs": [],
   "source": [
    "#df_ferrara.to_csv('ferrara_270615.csv')\n",
    "#df_milano.to_csv('milano_270615.csv')\n",
    "#df_mantova.to_csv('mantova_270615.csv')\n",
    "#df_ravenna.to_csv('ravenna_270615.csv')\n",
    "#df_torino.to_csv('torino_270615.csv')\n",
    "#df_asti.to_csv('asti_270615.csv')\n",
    "#df_bologna.to_csv('bologna_270615.csv')\n",
    "#df_piacenza.to_csv('piacenza_270615.csv')\n",
    "#df_cesena.to_csv('cesena_270615.csv')\n",
    "#df_faenza.to_csv('faenza_270615.csv')\n",
    "df_ferrara = pd.read_csv('ferrara_270615.csv')\n",
    "df_milano = pd.read_csv('milano_270615.csv')\n",
    "df_mantova = pd.read_csv('mantova_270615.csv')\n",
    "df_ravenna = pd.read_csv('ravenna_270615.csv')\n",
    "df_torino = pd.read_csv('torino_270615.csv')\n",
    "df_asti = pd.read_csv('asti_270615.csv')\n",
    "df_bologna = pd.read_csv('bologna_270615.csv')\n",
    "df_piacenza = pd.read_csv('piacenza_270615.csv')\n",
    "df_cesena = pd.read_csv('cesena_270615.csv')\n",
    "df_faenza = pd.read_csv('faenza_270615.csv')"
   ]
  },
  {
   "cell_type": "code",
   "execution_count": null,
   "metadata": {
    "scrolled": true
   },
   "outputs": [],
   "source": [
    "df_cesena"
   ]
  },
  {
   "cell_type": "code",
   "execution_count": null,
   "metadata": {},
   "outputs": [],
   "source": [
    "dist = [df_ravenna['dist'][0],\n",
    "     df_cesena['dist'][0],\n",
    "     df_faenza['dist'][0],\n",
    "     df_ferrara['dist'][0],\n",
    "     df_bologna['dist'][0],\n",
    "     df_mantova['dist'][0],\n",
    "     df_piacenza['dist'][0],\n",
    "     df_milano['dist'][0],\n",
    "     df_asti['dist'][0],\n",
    "     df_torino['dist'][0]\n",
    "]\n",
    "temp_max = [df_ravenna['temp'].max(),\n",
    "     df_cesena['temp'].max(),\n",
    "     df_faenza['temp'].max(),\n",
    "     df_ferrara['temp'].max(),\n",
    "     df_bologna['temp'].max(),\n",
    "     df_mantova['temp'].max(),\n",
    "     df_piacenza['temp'].max(),\n",
    "     df_milano['temp'].max(),\n",
    "     df_asti['temp'].max(),\n",
    "     df_torino['temp'].max()\n",
    "]\n",
    "temp_min = [df_ravenna['temp'].min(),\n",
    "     df_cesena['temp'].min(),\n",
    "     df_faenza['temp'].min(),\n",
    "     df_ferrara['temp'].min(),\n",
    "     df_bologna['temp'].min(),\n",
    "     df_mantova['temp'].min(),\n",
    "     df_piacenza['temp'].min(),\n",
    "     df_milano['temp'].min(),\n",
    "     df_asti['temp'].min(),\n",
    "     df_torino['temp'].min()\n",
    "]\n",
    "hum_min = [df_ravenna['humidity'].min(),\n",
    "     df_cesena['humidity'].min(),\n",
    "     df_faenza['humidity'].min(),\n",
    "     df_ferrara['humidity'].min(),\n",
    "     df_bologna['humidity'].min(),\n",
    "     df_mantova['humidity'].min(),\n",
    "     df_piacenza['humidity'].min(),\n",
    "     df_milano['humidity'].min(),\n",
    "     df_asti['humidity'].min(),\n",
    "     df_torino['humidity'].min()\n",
    "]\n",
    "hum_max = [df_ravenna['humidity'].max(),\n",
    "     df_cesena['humidity'].max(),\n",
    "     df_faenza['humidity'].max(),\n",
    "     df_ferrara['humidity'].max(),\n",
    "     df_bologna['humidity'].max(),\n",
    "     df_mantova['humidity'].max(),\n",
    "     df_piacenza['humidity'].max(),\n",
    "     df_milano['humidity'].max(),\n",
    "     df_asti['humidity'].max(),\n",
    "     df_torino['humidity'].max()\n",
    "]"
   ]
  },
  {
   "cell_type": "code",
   "execution_count": null,
   "metadata": {},
   "outputs": [],
   "source": [
    "%matplotlib inline\n",
    "import matplotlib.pyplot as plt\n",
    "import matplotlib.dates as mdates"
   ]
  },
  {
   "cell_type": "code",
   "execution_count": null,
   "metadata": {},
   "outputs": [],
   "source": [
    "#temperatura massima\n",
    "plt.plot(dist,temp_max,'ro')"
   ]
  },
  {
   "cell_type": "code",
   "execution_count": null,
   "metadata": {},
   "outputs": [],
   "source": [
    "x = np.array(dist)\n",
    "y = np.array(temp_max)\n",
    "x1 = x[x<100]\n",
    "x1 = x1.reshape((x1.size,1))\n",
    "y1 = y[x<100]\n",
    "x2 = x[x>50]\n",
    "x2 = x2.reshape((x2.size,1))\n",
    "y2 = y[x>50]"
   ]
  },
  {
   "cell_type": "code",
   "execution_count": null,
   "metadata": {},
   "outputs": [],
   "source": [
    "from sklearn.svm import SVR\n",
    "svr_lin1 = SVR(kernel='linear', C=1e3)\n",
    "svr_lin2 = SVR(kernel='linear', C=1e3)\n",
    "svr_lin1.fit(x1, y1)\n",
    "svr_lin2.fit(x2, y2)\n",
    "xp1 = np.arange(10,100,10).reshape((9,1))\n",
    "xp2 = np.arange(50,400,50).reshape((7,1))\n",
    "yp1 = svr_lin1.predict(xp1)\n",
    "yp2 = svr_lin2.predict(xp2)\n"
   ]
  },
  {
   "cell_type": "code",
   "execution_count": null,
   "metadata": {},
   "outputs": [],
   "source": [
    "plt.plot(xp1, yp1, c='r', label='Strong sea effect')\n",
    "plt.plot(xp2, yp2, c='b', label='Light sea effect')\n",
    "plt.axis((0,400,20,40))\n",
    "plt.scatter(x, y, c='k', label='data')"
   ]
  },
  {
   "cell_type": "code",
   "execution_count": null,
   "metadata": {},
   "outputs": [],
   "source": [
    "from scipy.optimize import fsolve\n",
    "\n",
    "def line1(x):\n",
    "    a1 = svr_lin1.coef_[0][0]\n",
    "    b1 = svr_lin1.intercept_[0]\n",
    "    return -a1*x + b1\n",
    "def line2(x):\n",
    "    a2 = svr_lin2.coef_[0][0]\n",
    "    b2 = svr_lin2.intercept_[0]\n",
    "    return -a2*x + b2\n",
    "def findIntersection(fun1,fun2,x0):\n",
    " return fsolve(lambda x : fun1(x) - fun2(x),x0)\n",
    "\n",
    "result = findIntersection(line1,line2,0.0)\n",
    "print \"[x,y] = [ %d , %d ]\" % (result,line1(result))\n",
    "x = numpy.linspace(0,300,31)\n",
    "plt.plot(x,line1(x),x,line2(x),result,line1(result),'ro')"
   ]
  },
  {
   "cell_type": "code",
   "execution_count": null,
   "metadata": {},
   "outputs": [],
   "source": [
    "#temperatures min\n",
    "plt.axis((0,400,15,25))\n",
    "plt.plot(dist,temp_min,'bo')"
   ]
  },
  {
   "cell_type": "code",
   "execution_count": null,
   "metadata": {},
   "outputs": [],
   "source": [
    "#min humidity\n",
    "plt.plot(dist,hum_min,'bo')"
   ]
  },
  {
   "cell_type": "code",
   "execution_count": null,
   "metadata": {},
   "outputs": [],
   "source": [
    "#max humidity\n",
    "plt.plot(dist,hum_max,'bo')"
   ]
  },
  {
   "cell_type": "code",
   "execution_count": null,
   "metadata": {},
   "outputs": [],
   "source": [
    "#temperature\n",
    "y1 = df_milano['temp']\n",
    "x1 = df_milano['day']\n",
    "fig, ax = plt.subplots()\n",
    "plt.xticks(rotation=70)\n",
    "hours = mdates.DateFormatter('%H:%M')\n",
    "ax.xaxis.set_major_formatter(hours)\n",
    "ax.plot(x1,y1,'r')"
   ]
  },
  {
   "cell_type": "code",
   "execution_count": null,
   "metadata": {},
   "outputs": [],
   "source": [
    "#humidity\n",
    "y1 = df_milano['humidity']\n",
    "x1 = df_milano['day']\n",
    "fig, ax = plt.subplots()\n",
    "plt.xticks(rotation=70)\n",
    "hours = mdates.DateFormatter('%H:%M')\n",
    "ax.xaxis.set_major_formatter(hours)\n",
    "ax.plot(x1,y1,'r')"
   ]
  },
  {
   "cell_type": "code",
   "execution_count": null,
   "metadata": {},
   "outputs": [],
   "source": [
    "y1 = df_ravenna['temp']\n",
    "x1 = df_ravenna['day']\n",
    "y2 = df_ferrara['temp']\n",
    "x2 = df_ferrara['day']\n",
    "y3 = df_milano['temp']\n",
    "x3 = df_milano['day']\n",
    "fig, ax = plt.subplots()\n",
    "plt.xticks(rotation=70)\n",
    "hours = mdates.DateFormatter('%H:%M')\n",
    "ax.xaxis.set_major_formatter(hours)\n",
    "plt.plot(x1,y1,'r',x2,y2,'b',x3,y3,'g')"
   ]
  },
  {
   "cell_type": "code",
   "execution_count": null,
   "metadata": {},
   "outputs": [],
   "source": [
    "y1 = df_ravenna['humidity']\n",
    "x1 = df_ravenna['day']\n",
    "y2 = df_ferrara['humidity']\n",
    "x2 = df_ferrara['day']\n",
    "y3 = df_milano['humidity']\n",
    "x3 = df_milano['day']\n",
    "fig, ax = plt.subplots()\n",
    "plt.xticks(rotation=70)\n",
    "hours = mdates.DateFormatter('%H:%M')\n",
    "ax.xaxis.set_major_formatter(hours)\n",
    "plt.plot(x1,y1,'r',x2,y2,'b',x3,y3,'g')"
   ]
  },
  {
   "cell_type": "code",
   "execution_count": null,
   "metadata": {},
   "outputs": [],
   "source": [
    "y1 = df_ravenna['humidity']\n",
    "x1 = df_ravenna['day']\n",
    "y2 = df_faenza['humidity']\n",
    "x2 = df_faenza['day']\n",
    "y3 = df_cesena['humidity']\n",
    "x3 = df_cesena['day']\n",
    "y4 = df_milano['humidity']\n",
    "x4 = df_milano['day']\n",
    "y5 = df_asti['humidity']\n",
    "x5 = df_asti['day']\n",
    "y6 = df_torino['humidity']\n",
    "x6 = df_torino['day']\n",
    "fig, ax = plt.subplots()\n",
    "plt.xticks(rotation=70)\n",
    "hours = mdates.DateFormatter('%H:%M')\n",
    "ax.xaxis.set_major_formatter(hours)\n",
    "plt.plot(x1,y1,'r',x2,y2,'r',x3,y3,'r')\n",
    "plt.plot(x4,y4,'g',x5,y5,'g',x6,y6,'g')"
   ]
  },
  {
   "cell_type": "code",
   "execution_count": null,
   "metadata": {},
   "outputs": [],
   "source": [
    "y1 = df_ravenna['temp']\n",
    "x1 = df_ravenna['day']\n",
    "y2 = df_faenza['temp']\n",
    "x2 = df_faenza['day']\n",
    "y3 = df_cesena['temp']\n",
    "x3 = df_cesena['day']\n",
    "y4 = df_milano['temp']\n",
    "x4 = df_milano['day']\n",
    "y5 = df_asti['temp']\n",
    "x5 = df_asti['day']\n",
    "y6 = df_torino['temp']\n",
    "x6 = df_torino['day']\n",
    "fig, ax = plt.subplots()\n",
    "plt.xticks(rotation=70)\n",
    "hours = mdates.DateFormatter('%H:%M')\n",
    "ax.xaxis.set_major_formatter(hours)\n",
    "plt.plot(x1,y1,'r',x2,y2,'r',x3,y3,'r')\n",
    "plt.plot(x4,y4,'g',x5,y5,'g',x6,y6,'g')"
   ]
  },
  {
   "cell_type": "code",
   "execution_count": null,
   "metadata": {},
   "outputs": [],
   "source": [
    "hum_mean = [df_ravenna['humidity'].mean(),\n",
    "     df_cesena['humidity'].mean(),\n",
    "     df_faenza['humidity'].mean(),\n",
    "     df_ferrara['humidity'].mean(),\n",
    "     df_bologna['humidity'].mean(),\n",
    "     df_mantova['humidity'].mean(),\n",
    "     df_piacenza['humidity'].mean(),\n",
    "     df_milano['humidity'].mean(),\n",
    "     df_asti['humidity'].mean(),\n",
    "     df_torino['humidity'].mean()\n",
    "]\n",
    "plt.plot(dist,hum_mean,'bo')"
   ]
  },
  {
   "cell_type": "code",
   "execution_count": null,
   "metadata": {},
   "outputs": [],
   "source": [
    "y1 = df_ravenna['wind_speed']*20\n",
    "y2 = df_ravenna['humidity']\n",
    "x = df_ravenna['day']\n",
    "fig, ax = plt.subplots()\n",
    "plt.xticks(rotation=70)\n",
    "hours = mdates.DateFormatter('%H:%M')\n",
    "ax.xaxis.set_major_formatter(hours)\n",
    "plt.plot(x,y1,'r',x,y2,'b')"
   ]
  },
  {
   "cell_type": "code",
   "execution_count": null,
   "metadata": {},
   "outputs": [],
   "source": [
    "plt.plot(df_ravenna['wind_deg'],df_ravenna['wind_speed'],'ro')"
   ]
  },
  {
   "cell_type": "code",
   "execution_count": null,
   "metadata": {},
   "outputs": [],
   "source": [
    "plt.subplot(211)\n",
    "plt.plot(df_cesena['wind_deg'],df_cesena['humidity'],'bo')\n",
    "plt.subplot(212)\n",
    "plt.plot(df_cesena['wind_deg'],df_cesena['wind_speed'],'bo')"
   ]
  },
  {
   "cell_type": "code",
   "execution_count": null,
   "metadata": {},
   "outputs": [],
   "source": [
    "df_ravenna[['wind_deg','wind_speed','day']]"
   ]
  },
  {
   "cell_type": "code",
   "execution_count": null,
   "metadata": {},
   "outputs": [],
   "source": [
    "df_cesena[['wind_deg','wind_speed']]"
   ]
  },
  {
   "cell_type": "code",
   "execution_count": null,
   "metadata": {},
   "outputs": [],
   "source": [
    "hist, bins = np.histogram(df_ravenna['wind_deg'],8,[0,360])\n",
    "print hist\n",
    "print bins"
   ]
  },
  {
   "cell_type": "code",
   "execution_count": null,
   "metadata": {},
   "outputs": [],
   "source": [
    "def showRoseWind(values,city_name,max_value):\n",
    "   N = 8\n",
    "   theta = np.arange(0.,2 * np.pi, 2 * np.pi / N)\n",
    "   radii = np.array(values)\n",
    "   plt.axes([0.025, 0.025, 0.95, 0.95], polar=True)\n",
    "   colors = [(1-x/max_value, 1-x/max_value, 0.75) for x in radii]\n",
    "   plt.bar(theta, radii, width=(2*np.pi/N), bottom=0.0, color=colors)\n",
    "   plt.title(city_name,x=0.2, fontsize=20)"
   ]
  },
  {
   "cell_type": "code",
   "execution_count": null,
   "metadata": {},
   "outputs": [],
   "source": [
    "hist, bin = np.histogram(df_ravenna['wind_deg'],8,[0,360])\n",
    "print hist\n",
    "showRoseWind(hist,'Ravenna', 15.0)"
   ]
  },
  {
   "cell_type": "code",
   "execution_count": null,
   "metadata": {},
   "outputs": [],
   "source": [
    "hist, bin = np.histogram(df_piacenza['wind_deg'],8,[0,360])\n",
    "print hist\n",
    "showRoseWind(hist,'Piacenza', 15.0)\n"
   ]
  },
  {
   "cell_type": "code",
   "execution_count": null,
   "metadata": {},
   "outputs": [],
   "source": [
    "print df_milano[df_milano['wind_deg']<45]['wind_speed']\n",
    "print df_milano[df_milano['wind_deg']<45]['wind_speed'].mean()\n"
   ]
  },
  {
   "cell_type": "code",
   "execution_count": null,
   "metadata": {},
   "outputs": [],
   "source": []
  },
  {
   "cell_type": "code",
   "execution_count": null,
   "metadata": {},
   "outputs": [],
   "source": [
    "print df_milano[df_milano['wind_deg']<45]['wind_speed'].mean()\n",
    "#print df_milano[(df_milano['wind_deg']>0) & (df_milano['wind_deg']<45)]['wind_speed'].mean()\n",
    "print df_milano[(df_milano['wind_deg']>44) & (df_milano['wind_deg']<90)]['wind_speed'].mean()\n",
    "print df_milano[(df_milano['wind_deg']>89) & (df_milano['wind_deg']<135)]['wind_speed'].mean()\n",
    "print df_milano[(df_milano['wind_deg']>134) & (df_milano['wind_deg']<180)]['wind_speed'].mean()\n",
    "print df_milano[(df_milano['wind_deg']>179) & (df_milano['wind_deg']<225)]['wind_speed'].mean()\n",
    "print df_milano[(df_milano['wind_deg']>224) & (df_milano['wind_deg']<270)]['wind_speed'].mean()\n",
    "print df_milano[(df_milano['wind_deg']>269) & (df_milano['wind_deg']<315)]['wind_speed'].mean()\n",
    "#print df_milano[(df_milano['wind_deg']>314) & (df_milano['wind_deg']<360)]['wind_speed'].mean()\n",
    "print df_milano[df_milano['wind_deg']>314]['wind_speed'].mean()"
   ]
  },
  {
   "cell_type": "code",
   "execution_count": null,
   "metadata": {},
   "outputs": [],
   "source": [
    "degs = np.arange(45,361,45)\n",
    "print degs"
   ]
  },
  {
   "cell_type": "code",
   "execution_count": null,
   "metadata": {},
   "outputs": [],
   "source": [
    "tmp =  []\n",
    "for deg in degs:\n",
    "    #print df_milano[(df_milano['wind_deg']>(deg-46)) & (df_milano['wind_deg']<deg)]['wind_speed'].mean()\n",
    "    tmp.append(df_milano[(df_milano['wind_deg']>(deg-46)) & (df_milano['wind_deg']<deg)]['wind_speed'].mean())\n",
    "speeds = np.array(tmp)\n",
    "print speeds"
   ]
  },
  {
   "cell_type": "code",
   "execution_count": null,
   "metadata": {},
   "outputs": [],
   "source": [
    "N = 8\n",
    "theta = np.arange(0.,2 * np.pi, 2 * np.pi / N)\n",
    "radii = np.array(speeds)\n",
    "plt.axes([0.025, 0.025, 0.95, 0.95], polar=True)\n",
    "colors = [(1-x/10.0, 1-x/10.0, 0.75) for x in radii]\n",
    "bars = plt.bar(theta, radii, width=(2*np.pi/N), bottom=0.0, color=colors)\n",
    "plt.title('Milano',x=0.2, fontsize=20)\n"
   ]
  },
  {
   "cell_type": "code",
   "execution_count": null,
   "metadata": {},
   "outputs": [],
   "source": [
    "def RoseWind_Speed(df_city):\n",
    "   degs = np.arange(45,361,45)\n",
    "   tmp =  []\n",
    "   for deg in degs:\n",
    "      tmp.append(df_city[(df_city['wind_deg']>(deg-46)) & (df_city['wind_deg']<deg)]['wind_speed'].mean())\n",
    "   return np.array(tmp)"
   ]
  },
  {
   "cell_type": "code",
   "execution_count": null,
   "metadata": {},
   "outputs": [],
   "source": [
    "def showRoseWind_Speed(speeds,city_name):\n",
    "   N = 8\n",
    "   theta = np.arange(0.,2 * np.pi, 2 * np.pi / N)\n",
    "   radii = np.array(speeds)\n",
    "   plt.axes([0.025, 0.025, 0.95, 0.95], polar=True)\n",
    "   colors = [(1-x/10.0, 1-x/10.0, 0.75) for x in radii]\n",
    "   bars = plt.bar(theta, radii, width=(2*np.pi/N), bottom=0.0, color=colors)\n",
    "   plt.title(city_name,x=0.2, fontsize=20)"
   ]
  },
  {
   "cell_type": "code",
   "execution_count": null,
   "metadata": {},
   "outputs": [],
   "source": [
    "showRoseWind(RoseWind_Speed(df_milano),'Milano',10)"
   ]
  },
  {
   "cell_type": "code",
   "execution_count": null,
   "metadata": {},
   "outputs": [],
   "source": [
    "showRoseWind_Speed(RoseWind_Speed(df_ravenna),'Ravenna')"
   ]
  },
  {
   "cell_type": "code",
   "execution_count": null,
   "metadata": {},
   "outputs": [],
   "source": [
    "showRoseWind_Speed(RoseWind_Speed(df_faenza),'Faenza')"
   ]
  },
  {
   "cell_type": "code",
   "execution_count": null,
   "metadata": {},
   "outputs": [],
   "source": [
    "showRoseWind_Speed(RoseWind_Speed(df_cesena),'Cesena')"
   ]
  },
  {
   "cell_type": "code",
   "execution_count": null,
   "metadata": {},
   "outputs": [],
   "source": [
    "showRoseWind_Speed(RoseWind_Speed(df_ferrara),'Ferrara')"
   ]
  },
  {
   "cell_type": "code",
   "execution_count": null,
   "metadata": {},
   "outputs": [],
   "source": [
    "showRoseWind_Speed(RoseWind_Speed(df_torino),'Torino')"
   ]
  },
  {
   "cell_type": "code",
   "execution_count": null,
   "metadata": {},
   "outputs": [],
   "source": [
    "showRoseWind_Speed(RoseWind_Speed(df_mantova),'Mantova')"
   ]
  },
  {
   "cell_type": "code",
   "execution_count": null,
   "metadata": {},
   "outputs": [],
   "source": [
    "ferrara = pd.read_json('http://api.openweathermap.org/data/2.5/history/city?q=Ferrara,IT')"
   ]
  },
  {
   "cell_type": "code",
   "execution_count": null,
   "metadata": {},
   "outputs": [],
   "source": [
    "df_ferrara.to_csv('ferrara.csv')\n",
    "df_milano.to_csv('milano.csv')\n",
    "df_mantova.to_csv('mantova.csv')\n",
    "df_ravenna.to_csv('ravenna.csv')\n",
    "df_torino.to_csv('torino.csv')\n",
    "df_asti.to_csv('asti.csv')\n",
    "df_bologna.to_csv('bologna.csv')\n",
    "df_piacenza.to_csv('piacenza.csv')\n",
    "df_cesena.to_csv('cesena.csv')\n",
    "df_faenza.to_csv('faenza.csv')"
   ]
  },
  {
   "cell_type": "code",
   "execution_count": null,
   "metadata": {},
   "outputs": [],
   "source": []
  }
 ],
 "metadata": {
  "kernelspec": {
   "display_name": "Python 3",
   "language": "python",
   "name": "python3"
  },
  "language_info": {
   "codemirror_mode": {
    "name": "ipython",
    "version": 3
   },
   "file_extension": ".py",
   "mimetype": "text/x-python",
   "name": "python",
   "nbconvert_exporter": "python",
   "pygments_lexer": "ipython3",
   "version": "3.7.1"
  }
 },
 "nbformat": 4,
 "nbformat_minor": 1
}
